{
 "cells": [
  {
   "cell_type": "code",
   "execution_count": 34,
   "id": "98616140-26f3-4244-ab7b-cfccec60d597",
   "metadata": {},
   "outputs": [],
   "source": [
    "import polars as pl\n",
    "import chess.pgn"
   ]
  },
  {
   "cell_type": "code",
   "execution_count": 43,
   "id": "56459307-abed-48f0-9548-bb6cae398656",
   "metadata": {},
   "outputs": [],
   "source": [
    "df = pl.scan_csv(\"./1.pgn\", separator=\"\\t\", has_header=False, new_columns=[\"White\",\n",
    "\"WhiteElo\",\n",
    "\"WhiteFideId\",\n",
    "\"WhiteRatingDiff\",\n",
    "\"WhiteTeam\",\n",
    "\"WhiteTitle\",\n",
    "\"Black\",\n",
    "\"BlackElo\",\n",
    "\"BlackFideId\",\n",
    "\"BlackRatingDiff\",\n",
    "\"BlackTeam\",\n",
    "\"BlackTitle\",\n",
    "\"Annotator\",\n",
    "\"Board\",\n",
    "\"Date\",\n",
    "\"ECO\",\n",
    "\"Event\",\n",
    "\"Opening\",\n",
    "\"Result\",\n",
    "\"Round\",\n",
    "\"Site\",\n",
    "\"Termination\",\n",
    "\"TimeControl\",\n",
    "\"UTCDate\",\n",
    "\"UTCTime\",\n",
    "\"PGN\"])"
   ]
  },
  {
   "cell_type": "code",
   "execution_count": 4,
   "id": "0ad2eb0e-a085-435e-8d88-d15501541d0d",
   "metadata": {},
   "outputs": [],
   "source": []
  },
  {
   "cell_type": "code",
   "execution_count": 44,
   "id": "1ab666dd-7897-4a36-b810-94798f656679",
   "metadata": {},
   "outputs": [
    {
     "name": "stdout",
     "output_type": "stream",
     "text": [
      "naive plan: (run LazyFrame.explain(optimized=True) to see the optimized plan)\n",
      "\n",
      "SLICE[offset: 0, len: 3]\n",
      "  Csv SCAN [./1.pgn]\n",
      "  PROJECT */26 COLUMNS\n"
     ]
    }
   ],
   "source": [
    "with pl.Config(tbl_cols=-1):\n",
    "    print(df.head(3))"
   ]
  },
  {
   "cell_type": "code",
   "execution_count": 48,
   "id": "befe7279-39d7-4382-9db0-3fe01e6be3f7",
   "metadata": {},
   "outputs": [
    {
     "name": "stdout",
     "output_type": "stream",
     "text": [
      "naive plan: (run LazyFrame.explain(optimized=True) to see the optimized plan)\n",
      "\n",
      "AGGREGATE\n",
      "\t[len()] BY [col(\"WhiteIsBot\"), col(\"BlackIsBot\")] FROM\n",
      "   WITH_COLUMNS:\n",
      "   [[(col(\"WhiteTitle\")) == (String(BOT))].alias(\"WhiteIsBot\"), [(col(\"BlackTitle\")) == (String(BOT))].alias(\"BlackIsBot\")] \n",
      "    Csv SCAN [./1.pgn]\n",
      "    PROJECT */26 COLUMNS\n"
     ]
    }
   ],
   "source": [
    "#with pl.Config(tbl_rows=100):\n",
    "#    print(df[\"WhiteTitle\"].append(df[\"BlackTitle\"]).value_counts())\n",
    "\n",
    "print(df.with_columns(\n",
    "    (pl.col(\"WhiteTitle\") == \"BOT\").alias(\"WhiteIsBot\"),\n",
    "    (pl.col(\"BlackTitle\") == \"BOT\").alias(\"BlackIsBot\")).group_by(\"WhiteIsBot\", \"BlackIsBot\").len())"
   ]
  },
  {
   "cell_type": "code",
   "execution_count": null,
   "id": "4b9265e3-9020-45e8-97b6-97717f42e490",
   "metadata": {},
   "outputs": [],
   "source": []
  }
 ],
 "metadata": {
  "kernelspec": {
   "display_name": "Python 3 (ipykernel)",
   "language": "python",
   "name": "python3"
  },
  "language_info": {
   "codemirror_mode": {
    "name": "ipython",
    "version": 3
   },
   "file_extension": ".py",
   "mimetype": "text/x-python",
   "name": "python",
   "nbconvert_exporter": "python",
   "pygments_lexer": "ipython3",
   "version": "3.11.4"
  }
 },
 "nbformat": 4,
 "nbformat_minor": 5
}
